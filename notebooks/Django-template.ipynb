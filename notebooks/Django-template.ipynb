{
 "cells": [
  {
   "cell_type": "code",
   "execution_count": 1,
   "id": "4a1c867c-d411-4ad0-aa68-14f975f1b6cb",
   "metadata": {},
   "outputs": [],
   "source": [
    "import os, sys\n",
    "import django\n",
    "\n",
    "PROJECTPATH = '/Users/siddhanttandon/portfolio-IAM/devfolio' # insert your devfolio folder path\n",
    "sys.path.insert(0, PROJECTPATH)\n",
    "os.environ.setdefault(\"DJANGO_SETTINGS_MODULE\", \"devfolio.settings\") \n",
    "os.environ[\"DJANGO_ALLOW_ASYNC_UNSAFE\"] = \"true\" \n",
    "#os.chdir(PROJECTPATH)\n",
    "django.setup()"
   ]
  },
  {
   "cell_type": "code",
   "execution_count": 2,
   "id": "21863bd2-18ca-45a0-8807-d515da5a0619",
   "metadata": {},
   "outputs": [],
   "source": [
    "from app_devfolio.models import User"
   ]
  }
 ],
 "metadata": {
  "kernelspec": {
   "display_name": "Python 3 (ipykernel)",
   "language": "python",
   "name": "python3"
  },
  "language_info": {
   "codemirror_mode": {
    "name": "ipython",
    "version": 3
   },
   "file_extension": ".py",
   "mimetype": "text/x-python",
   "name": "python",
   "nbconvert_exporter": "python",
   "pygments_lexer": "ipython3",
   "version": "3.12.4"
  }
 },
 "nbformat": 4,
 "nbformat_minor": 5
}
